{
 "cells": [
  {
   "cell_type": "code",
   "execution_count": 1,
   "metadata": {},
   "outputs": [],
   "source": [
    "import numpy as np\n",
    "import pandas as pd"
   ]
  },
  {
   "cell_type": "code",
   "execution_count": 2,
   "metadata": {},
   "outputs": [
    {
     "name": "stdout",
     "output_type": "stream",
     "text": [
      "(569, 30)\n",
      "(569,) [0 1]\n",
      "['mean radius' 'mean texture' 'mean perimeter' 'mean area'\n",
      " 'mean smoothness' 'mean compactness' 'mean concavity'\n",
      " 'mean concave points' 'mean symmetry' 'mean fractal dimension'\n",
      " 'radius error' 'texture error' 'perimeter error' 'area error'\n",
      " 'smoothness error' 'compactness error' 'concavity error'\n",
      " 'concave points error' 'symmetry error' 'fractal dimension error'\n",
      " 'worst radius' 'worst texture' 'worst perimeter' 'worst area'\n",
      " 'worst smoothness' 'worst compactness' 'worst concavity'\n",
      " 'worst concave points' 'worst symmetry' 'worst fractal dimension']\n"
     ]
    }
   ],
   "source": [
    "from sklearn.datasets import load_breast_cancer\n",
    "bc = load_breast_cancer()\n",
    "print(bc.data.shape)\n",
    "print(bc.target.shape, np.unique(bc.target))\n",
    "print(bc.feature_names)\n",
    "X = bc.data\n",
    "y = bc.target"
   ]
  },
  {
   "cell_type": "code",
   "execution_count": 3,
   "metadata": {},
   "outputs": [],
   "source": [
    "from sklearn.naive_bayes import GaussianNB\n",
    "from sklearn.model_selection import train_test_split\n",
    "from sklearn.metrics import classification_report"
   ]
  },
  {
   "cell_type": "code",
   "execution_count": 4,
   "metadata": {},
   "outputs": [],
   "source": [
    "X_train, X_test, y_train, y_test = train_test_split(X, y, random_state=1138)"
   ]
  },
  {
   "cell_type": "code",
   "execution_count": 5,
   "metadata": {},
   "outputs": [
    {
     "name": "stdout",
     "output_type": "stream",
     "text": [
      "0.965034965034965\n",
      "              precision    recall  f1-score   support\n",
      "\n",
      "           0       0.98      0.92      0.95        52\n",
      "           1       0.96      0.99      0.97        91\n",
      "\n",
      "    accuracy                           0.97       143\n",
      "   macro avg       0.97      0.96      0.96       143\n",
      "weighted avg       0.97      0.97      0.96       143\n",
      "\n"
     ]
    }
   ],
   "source": [
    "model = GaussianNB()\n",
    "model.fit(X_train, y_train)\n",
    "print(model.score(X_test, y_test))\n",
    "print(classification_report(y_test, model.predict(X_test)))"
   ]
  },
  {
   "cell_type": "code",
   "execution_count": 6,
   "metadata": {},
   "outputs": [],
   "source": [
    "from sklearn.neighbors import KNeighborsClassifier"
   ]
  },
  {
   "cell_type": "code",
   "execution_count": 7,
   "metadata": {},
   "outputs": [
    {
     "name": "stdout",
     "output_type": "stream",
     "text": [
      "0.9300699300699301\n"
     ]
    }
   ],
   "source": [
    "model = KNeighborsClassifier(n_neighbors=9)\n",
    "model.fit(X_train, y_train)\n",
    "print(model.score(X_test, y_test))"
   ]
  },
  {
   "cell_type": "code",
   "execution_count": 8,
   "metadata": {},
   "outputs": [
    {
     "name": "stdout",
     "output_type": "stream",
     "text": [
      "       mean radius  texture error  worst concavity\n",
      "count   569.000000     569.000000       569.000000\n",
      "mean     14.127292       1.216853         0.272188\n",
      "std       3.524049       0.551648         0.208624\n",
      "min       6.981000       0.360200         0.000000\n",
      "25%      11.700000       0.833900         0.114500\n",
      "50%      13.370000       1.108000         0.226700\n",
      "75%      15.780000       1.474000         0.382900\n",
      "max      28.110000       4.885000         1.252000\n"
     ]
    }
   ],
   "source": [
    "bc_df = pd.DataFrame(bc.data, columns=bc.feature_names)\n",
    "print(bc_df[['mean radius', 'texture error', 'worst concavity']].describe())"
   ]
  },
  {
   "cell_type": "code",
   "execution_count": 9,
   "metadata": {},
   "outputs": [],
   "source": [
    "from sklearn.pipeline import make_pipeline\n",
    "from sklearn.preprocessing import MinMaxScaler, StandardScaler\n"
   ]
  },
  {
   "cell_type": "code",
   "execution_count": 10,
   "metadata": {},
   "outputs": [
    {
     "name": "stdout",
     "output_type": "stream",
     "text": [
      "0.972027972027972\n"
     ]
    }
   ],
   "source": [
    "model = make_pipeline(\n",
    "    StandardScaler(),\n",
    "    KNeighborsClassifier(n_neighbors=9)\n",
    ")\n",
    "model.fit(X_train, y_train)\n",
    "print(model.score(X_test, y_test))\n"
   ]
  },
  {
   "cell_type": "markdown",
   "metadata": {},
   "source": [
    "## Cross Validation using KFold\n",
    "\n",
    "Let's first of all get the validation scores without standardscaler"
   ]
  },
  {
   "cell_type": "code",
   "execution_count": 11,
   "metadata": {},
   "outputs": [],
   "source": [
    "from sklearn.model_selection import KFold"
   ]
  },
  {
   "cell_type": "markdown",
   "metadata": {},
   "source": [
    "## IMPORTANT\n",
    "\n",
    "With KFold always be careful with whether you want it to shuffle the folds or not. I said in lectures the folds need to be shuffled\n",
    "\n",
    "Since we have already used train_test_split which did some shuffling for us, in this case, we don't need to shuffle again. But THIS IS NOT ALWAYS TRUE. Be aware about what earlier steps you have taken"
   ]
  },
  {
   "cell_type": "code",
   "execution_count": 12,
   "metadata": {},
   "outputs": [
    {
     "name": "stdout",
     "output_type": "stream",
     "text": [
      "1\n",
      "2\n",
      "3\n",
      "4\n",
      "5\n",
      "6\n",
      "7\n",
      "8\n",
      "9\n",
      "10\n",
      "11\n",
      "12\n",
      "13\n",
      "14\n",
      "15\n",
      "16\n",
      "17\n",
      "18\n",
      "19\n",
      "20\n"
     ]
    }
   ],
   "source": [
    "n_folds=5\n",
    "ks=range(21) # go from 0 to 20 (but we'll skip 0 in the end!) you can increase this if you want\n",
    "train_scores = np.zeros((len(ks),n_folds)) # creating an empty array to store the score for each fold and each degree\n",
    "valid_scores = np.zeros((len(ks),n_folds))\n",
    "kf = KFold(n_splits=n_folds, shuffle=False)\n",
    "for k in ks:\n",
    "    if k == 0:\n",
    "        continue ##we can't have 0 neighbors so let's skip this one\n",
    "    print(k) # Just outputting something to screen to make sure things are running\n",
    "\n",
    "    fold = 0\n",
    "    for train_index, val_index in kf.split(X_train):\n",
    "        X_c, X_val = X_train[train_index], X_train[val_index]\n",
    "        y_c, y_val = y_train[train_index], y_train[val_index]\n",
    "        est = KNeighborsClassifier(n_neighbors = k)\n",
    "        est.fit(X_c, y_c) # fit on the remaining train\n",
    "        train_scores[k, fold] = est.score(X_c, y_c)\n",
    "        valid_scores[k, fold] = est.score(X_val, y_val)\n",
    "        fold += 1 "
   ]
  },
  {
   "cell_type": "code",
   "execution_count": 13,
   "metadata": {},
   "outputs": [],
   "source": [
    "mean_train_scores = train_scores.mean(axis=1)\n",
    "mean_valid_scores = valid_scores.mean(axis=1)"
   ]
  },
  {
   "cell_type": "code",
   "execution_count": 14,
   "metadata": {},
   "outputs": [
    {
     "data": {
      "text/plain": [
       "6"
      ]
     },
     "execution_count": 14,
     "metadata": {},
     "output_type": "execute_result"
    }
   ],
   "source": [
    "bestk = np.argmax(mean_valid_scores)\n",
    "bestk"
   ]
  },
  {
   "cell_type": "code",
   "execution_count": 15,
   "metadata": {},
   "outputs": [
    {
     "data": {
      "text/plain": [
       "0.9436935704514365"
      ]
     },
     "execution_count": 15,
     "metadata": {},
     "output_type": "execute_result"
    }
   ],
   "source": [
    "mean_valid_scores[bestk]"
   ]
  },
  {
   "cell_type": "markdown",
   "metadata": {},
   "source": [
    "## Cross Validation with StandardScaler\n",
    "\n",
    "Now let's do validation using standardscaler and finding bestk"
   ]
  },
  {
   "cell_type": "code",
   "execution_count": 16,
   "metadata": {},
   "outputs": [
    {
     "name": "stdout",
     "output_type": "stream",
     "text": [
      "1\n",
      "2\n",
      "3\n",
      "4\n",
      "5\n",
      "6\n",
      "7\n",
      "8\n",
      "9\n",
      "10\n",
      "11\n",
      "12\n",
      "13\n",
      "14\n",
      "15\n",
      "16\n",
      "17\n",
      "18\n",
      "19\n",
      "20\n"
     ]
    }
   ],
   "source": [
    "n_folds=5\n",
    "ks=range(21)\n",
    "train_scores = np.zeros((len(ks),n_folds))\n",
    "valid_scores = np.zeros((len(ks),n_folds))\n",
    "kf = KFold(n_splits=n_folds, shuffle=False)\n",
    "for k in ks:\n",
    "    fold = 0\n",
    "    if k == 0:\n",
    "        continue ##we can't have 0 neighbors so let's skip this one\n",
    "    print(k)\n",
    "        \n",
    "    for train_index, val_index in kf.split(X_train):\n",
    "        X_c, X_val = X_train[train_index], X_train[val_index]\n",
    "        y_c, y_val = y_train[train_index], y_train[val_index]\n",
    "        est = make_pipeline(\n",
    "            StandardScaler(),\n",
    "            KNeighborsClassifier(n_neighbors = k)\n",
    "        )\n",
    "        est.fit(X_c, y_c) # fit on the remaining train\n",
    "        train_scores[k, fold] = est.score(X_c, y_c)\n",
    "        valid_scores[k, fold] = est.score(X_val, y_val)\n",
    "        fold += 1 \n",
    "  "
   ]
  },
  {
   "cell_type": "code",
   "execution_count": 17,
   "metadata": {},
   "outputs": [],
   "source": [
    "mean_train_scores = train_scores.mean(axis=1)\n",
    "mean_valid_scores = valid_scores.mean(axis=1)"
   ]
  },
  {
   "cell_type": "code",
   "execution_count": 18,
   "metadata": {},
   "outputs": [
    {
     "data": {
      "text/plain": [
       "3"
      ]
     },
     "execution_count": 18,
     "metadata": {},
     "output_type": "execute_result"
    }
   ],
   "source": [
    "bestk = np.argmax(mean_valid_scores)\n",
    "bestk"
   ]
  },
  {
   "cell_type": "code",
   "execution_count": 19,
   "metadata": {},
   "outputs": [
    {
     "data": {
      "text/plain": [
       "0.9694938440492477"
      ]
     },
     "execution_count": 19,
     "metadata": {},
     "output_type": "execute_result"
    }
   ],
   "source": [
    "mean_valid_scores[bestk]"
   ]
  },
  {
   "cell_type": "markdown",
   "metadata": {},
   "source": [
    "### Validation score with standard scaler and k=3 is the best one so we'll go with that\n",
    "\n",
    "Let's plot it now just to see"
   ]
  },
  {
   "cell_type": "code",
   "execution_count": 20,
   "metadata": {},
   "outputs": [],
   "source": [
    "import matplotlib.pyplot as plt"
   ]
  },
  {
   "cell_type": "code",
   "execution_count": 21,
   "metadata": {},
   "outputs": [
    {
     "data": {
      "image/png": "[encoded data removed]",
      "text/plain": [
       "<Figure size 640x480 with 1 Axes>"
      ]
     },
     "metadata": {},
     "output_type": "display_data"
    }
   ],
   "source": [
    "plt.axvline(bestk, 0,0.5, color='r', label=\"best valid score at k=%d\"%bestk, alpha=0.3)\n",
    "plt.plot(ks[1:], mean_train_scores[1:], marker='o', label='train error', alpha=0.9)\n",
    "plt.plot(ks[1:], mean_valid_scores[1:], marker='o', label='CV error', alpha=0.9)\n",
    "plt.legend(loc='upper right')\n",
    "plt.xticks(range(1,21))\n",
    "plt.xlabel('k')\n",
    "plt.ylabel('accuracy score')\n",
    "plt.show()"
   ]
  },
  {
   "cell_type": "markdown",
   "metadata": {},
   "source": [
    "#### Final Evaluation"
   ]
  },
  {
   "cell_type": "code",
   "execution_count": 22,
   "metadata": {},
   "outputs": [
    {
     "name": "stdout",
     "output_type": "stream",
     "text": [
      "0.986013986013986\n"
     ]
    }
   ],
   "source": [
    "model = make_pipeline(\n",
    "    StandardScaler(),\n",
    "    KNeighborsClassifier(n_neighbors=3)\n",
    ")\n",
    "model.fit(X_train, y_train)\n",
    "print(model.score(X_test, y_test))"
   ]
  },
  {
   "cell_type": "code",
   "execution_count": null,
   "metadata": {},
   "outputs": [],
   "source": []
  }
 ],
 "metadata": {
  "kernelspec": {
   "display_name": "Python 3 (ipykernel)",
   "language": "python",
   "name": "python3"
  },
  "language_info": {
   "codemirror_mode": {
    "name": "ipython",
    "version": 3
   },
   "file_extension": ".py",
   "mimetype": "text/x-python",
   "name": "python",
   "nbconvert_exporter": "python",
   "pygments_lexer": "ipython3",
   "version": "3.11.3"
  }
 },
 "nbformat": 4,
 "nbformat_minor": 4
}
